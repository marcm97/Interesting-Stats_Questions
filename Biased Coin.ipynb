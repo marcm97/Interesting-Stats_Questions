{
 "cells": [
  {
   "cell_type": "markdown",
   "metadata": {},
   "source": [
    "## A coin was flipped 1000 times, and 550 times it showed up heads. Do you think the coin is biased? Why or why not?"
   ]
  },
  {
   "cell_type": "raw",
   "metadata": {},
   "source": [
    "Assuming a normal approx for the binomial distribution, given the null hypothesis that the coin is far, the normal distribution must be centered at 500 with a sd of sqrt(npq) = 15.8\n",
    "\n",
    "3 sd from mean covers around 99% of all possible observations of coin tosses and since we know its in the right tail, this reduces the probability of seeing it to less than 0.005"
   ]
  },
  {
   "cell_type": "code",
   "execution_count": 28,
   "metadata": {},
   "outputs": [],
   "source": [
    "import numpy as np\n",
    "import pandas as pd\n",
    "import altair as alt"
   ]
  },
  {
   "cell_type": "code",
   "execution_count": 13,
   "metadata": {},
   "outputs": [],
   "source": [
    "ans=[]\n",
    "sims=10000\n",
    "for sim in range(sims):\n",
    "    heads=0\n",
    "    tails=0\n",
    "    for i in range(1000):\n",
    "        toss =np.random.choice([\"H\",\"T\"])\n",
    "        if toss==\"H\":\n",
    "            heads+=1\n",
    "        else:\n",
    "            tails+=1\n",
    "    ans.append(heads)\n"
   ]
  },
  {
   "cell_type": "code",
   "execution_count": 23,
   "metadata": {},
   "outputs": [
    {
     "data": {
      "text/plain": [
       "0.001"
      ]
     },
     "execution_count": 23,
     "metadata": {},
     "output_type": "execute_result"
    }
   ],
   "source": [
    "sum([i>=550 for i in ans])/sims"
   ]
  },
  {
   "cell_type": "code",
   "execution_count": 30,
   "metadata": {},
   "outputs": [],
   "source": [
    "tosses =pd.DataFrame(pd.Series(ans).value_counts(),columns=[\"freq\"]).reset_index()\n",
    "tosses['line']=550"
   ]
  },
  {
   "cell_type": "code",
   "execution_count": 35,
   "metadata": {},
   "outputs": [],
   "source": [
    "hist = alt.Chart(tosses).mark_bar().encode(\n",
    "    x = \"index\",\n",
    "    y =\"freq\"\n",
    ")\n",
    "line = alt.Chart(tosses).mark_rule().encode(\n",
    "    x=\"line\"\n",
    ")\n"
   ]
  },
  {
   "cell_type": "code",
   "execution_count": 36,
   "metadata": {},
   "outputs": [
    {
     "data": {
      "text/html": [
       "\n",
       "<div id=\"altair-viz-eefae537e7d44955b52f274ba8944d1f\"></div>\n",
       "<script type=\"text/javascript\">\n",
       "  (function(spec, embedOpt){\n",
       "    let outputDiv = document.currentScript.previousElementSibling;\n",
       "    if (outputDiv.id !== \"altair-viz-eefae537e7d44955b52f274ba8944d1f\") {\n",
       "      outputDiv = document.getElementById(\"altair-viz-eefae537e7d44955b52f274ba8944d1f\");\n",
       "    }\n",
       "    const paths = {\n",
       "      \"vega\": \"https://cdn.jsdelivr.net/npm//vega@5?noext\",\n",
       "      \"vega-lib\": \"https://cdn.jsdelivr.net/npm//vega-lib?noext\",\n",
       "      \"vega-lite\": \"https://cdn.jsdelivr.net/npm//vega-lite@4.8.1?noext\",\n",
       "      \"vega-embed\": \"https://cdn.jsdelivr.net/npm//vega-embed@6?noext\",\n",
       "    };\n",
       "\n",
       "    function loadScript(lib) {\n",
       "      return new Promise(function(resolve, reject) {\n",
       "        var s = document.createElement('script');\n",
       "        s.src = paths[lib];\n",
       "        s.async = true;\n",
       "        s.onload = () => resolve(paths[lib]);\n",
       "        s.onerror = () => reject(`Error loading script: ${paths[lib]}`);\n",
       "        document.getElementsByTagName(\"head\")[0].appendChild(s);\n",
       "      });\n",
       "    }\n",
       "\n",
       "    function showError(err) {\n",
       "      outputDiv.innerHTML = `<div class=\"error\" style=\"color:red;\">${err}</div>`;\n",
       "      throw err;\n",
       "    }\n",
       "\n",
       "    function displayChart(vegaEmbed) {\n",
       "      vegaEmbed(outputDiv, spec, embedOpt)\n",
       "        .catch(err => showError(`Javascript Error: ${err.message}<br>This usually means there's a typo in your chart specification. See the javascript console for the full traceback.`));\n",
       "    }\n",
       "\n",
       "    if(typeof define === \"function\" && define.amd) {\n",
       "      requirejs.config({paths});\n",
       "      require([\"vega-embed\"], displayChart, err => showError(`Error loading script: ${err.message}`));\n",
       "    } else if (typeof vegaEmbed === \"function\") {\n",
       "      displayChart(vegaEmbed);\n",
       "    } else {\n",
       "      loadScript(\"vega\")\n",
       "        .then(() => loadScript(\"vega-lite\"))\n",
       "        .then(() => loadScript(\"vega-embed\"))\n",
       "        .catch(showError)\n",
       "        .then(() => displayChart(vegaEmbed));\n",
       "    }\n",
       "  })({\"config\": {\"view\": {\"continuousWidth\": 400, \"continuousHeight\": 300}}, \"layer\": [{\"mark\": \"bar\", \"encoding\": {\"x\": {\"type\": \"quantitative\", \"field\": \"index\"}, \"y\": {\"type\": \"quantitative\", \"field\": \"freq\"}}}, {\"mark\": \"rule\", \"encoding\": {\"x\": {\"type\": \"quantitative\", \"field\": \"line\"}}}], \"data\": {\"name\": \"data-b14e126282cc9db7b1c9c5748d97b51c\"}, \"$schema\": \"https://vega.github.io/schema/vega-lite/v4.8.1.json\", \"datasets\": {\"data-b14e126282cc9db7b1c9c5748d97b51c\": [{\"index\": 496, \"freq\": 262, \"line\": 550}, {\"index\": 504, \"freq\": 257, \"line\": 550}, {\"index\": 505, \"freq\": 253, \"line\": 550}, {\"index\": 503, \"freq\": 252, \"line\": 550}, {\"index\": 502, \"freq\": 250, \"line\": 550}, {\"index\": 497, \"freq\": 247, \"line\": 550}, {\"index\": 498, \"freq\": 245, \"line\": 550}, {\"index\": 495, \"freq\": 238, \"line\": 550}, {\"index\": 508, \"freq\": 236, \"line\": 550}, {\"index\": 491, \"freq\": 234, \"line\": 550}, {\"index\": 501, \"freq\": 232, \"line\": 550}, {\"index\": 500, \"freq\": 232, \"line\": 550}, {\"index\": 506, \"freq\": 230, \"line\": 550}, {\"index\": 492, \"freq\": 230, \"line\": 550}, {\"index\": 493, \"freq\": 228, \"line\": 550}, {\"index\": 494, \"freq\": 226, \"line\": 550}, {\"index\": 507, \"freq\": 224, \"line\": 550}, {\"index\": 499, \"freq\": 222, \"line\": 550}, {\"index\": 509, \"freq\": 216, \"line\": 550}, {\"index\": 490, \"freq\": 212, \"line\": 550}, {\"index\": 510, \"freq\": 208, \"line\": 550}, {\"index\": 489, \"freq\": 204, \"line\": 550}, {\"index\": 511, \"freq\": 200, \"line\": 550}, {\"index\": 512, \"freq\": 188, \"line\": 550}, {\"index\": 487, \"freq\": 178, \"line\": 550}, {\"index\": 486, \"freq\": 176, \"line\": 550}, {\"index\": 513, \"freq\": 175, \"line\": 550}, {\"index\": 485, \"freq\": 165, \"line\": 550}, {\"index\": 515, \"freq\": 164, \"line\": 550}, {\"index\": 483, \"freq\": 160, \"line\": 550}, {\"index\": 514, \"freq\": 157, \"line\": 550}, {\"index\": 488, \"freq\": 151, \"line\": 550}, {\"index\": 517, \"freq\": 151, \"line\": 550}, {\"index\": 484, \"freq\": 143, \"line\": 550}, {\"index\": 516, \"freq\": 137, \"line\": 550}, {\"index\": 519, \"freq\": 134, \"line\": 550}, {\"index\": 518, \"freq\": 130, \"line\": 550}, {\"index\": 521, \"freq\": 127, \"line\": 550}, {\"index\": 482, \"freq\": 125, \"line\": 550}, {\"index\": 481, \"freq\": 118, \"line\": 550}, {\"index\": 520, \"freq\": 111, \"line\": 550}, {\"index\": 478, \"freq\": 102, \"line\": 550}, {\"index\": 480, \"freq\": 96, \"line\": 550}, {\"index\": 523, \"freq\": 93, \"line\": 550}, {\"index\": 525, \"freq\": 90, \"line\": 550}, {\"index\": 522, \"freq\": 89, \"line\": 550}, {\"index\": 477, \"freq\": 86, \"line\": 550}, {\"index\": 479, \"freq\": 84, \"line\": 550}, {\"index\": 476, \"freq\": 83, \"line\": 550}, {\"index\": 524, \"freq\": 80, \"line\": 550}, {\"index\": 475, \"freq\": 76, \"line\": 550}, {\"index\": 527, \"freq\": 63, \"line\": 550}, {\"index\": 474, \"freq\": 61, \"line\": 550}, {\"index\": 528, \"freq\": 59, \"line\": 550}, {\"index\": 529, \"freq\": 58, \"line\": 550}, {\"index\": 473, \"freq\": 58, \"line\": 550}, {\"index\": 472, \"freq\": 57, \"line\": 550}, {\"index\": 526, \"freq\": 56, \"line\": 550}, {\"index\": 471, \"freq\": 50, \"line\": 550}, {\"index\": 468, \"freq\": 42, \"line\": 550}, {\"index\": 530, \"freq\": 38, \"line\": 550}, {\"index\": 470, \"freq\": 33, \"line\": 550}, {\"index\": 531, \"freq\": 31, \"line\": 550}, {\"index\": 466, \"freq\": 30, \"line\": 550}, {\"index\": 532, \"freq\": 29, \"line\": 550}, {\"index\": 467, \"freq\": 29, \"line\": 550}, {\"index\": 533, \"freq\": 28, \"line\": 550}, {\"index\": 469, \"freq\": 27, \"line\": 550}, {\"index\": 538, \"freq\": 25, \"line\": 550}, {\"index\": 465, \"freq\": 25, \"line\": 550}, {\"index\": 534, \"freq\": 24, \"line\": 550}, {\"index\": 537, \"freq\": 23, \"line\": 550}, {\"index\": 536, \"freq\": 21, \"line\": 550}, {\"index\": 464, \"freq\": 21, \"line\": 550}, {\"index\": 535, \"freq\": 19, \"line\": 550}, {\"index\": 462, \"freq\": 13, \"line\": 550}, {\"index\": 463, \"freq\": 13, \"line\": 550}, {\"index\": 539, \"freq\": 12, \"line\": 550}, {\"index\": 457, \"freq\": 12, \"line\": 550}, {\"index\": 459, \"freq\": 11, \"line\": 550}, {\"index\": 542, \"freq\": 11, \"line\": 550}, {\"index\": 541, \"freq\": 10, \"line\": 550}, {\"index\": 458, \"freq\": 8, \"line\": 550}, {\"index\": 460, \"freq\": 8, \"line\": 550}, {\"index\": 461, \"freq\": 8, \"line\": 550}, {\"index\": 455, \"freq\": 7, \"line\": 550}, {\"index\": 540, \"freq\": 6, \"line\": 550}, {\"index\": 545, \"freq\": 5, \"line\": 550}, {\"index\": 454, \"freq\": 5, \"line\": 550}, {\"index\": 547, \"freq\": 5, \"line\": 550}, {\"index\": 546, \"freq\": 5, \"line\": 550}, {\"index\": 544, \"freq\": 5, \"line\": 550}, {\"index\": 543, \"freq\": 4, \"line\": 550}, {\"index\": 451, \"freq\": 4, \"line\": 550}, {\"index\": 452, \"freq\": 3, \"line\": 550}, {\"index\": 456, \"freq\": 3, \"line\": 550}, {\"index\": 560, \"freq\": 2, \"line\": 550}, {\"index\": 449, \"freq\": 2, \"line\": 550}, {\"index\": 555, \"freq\": 2, \"line\": 550}, {\"index\": 549, \"freq\": 2, \"line\": 550}, {\"index\": 442, \"freq\": 2, \"line\": 550}, {\"index\": 447, \"freq\": 2, \"line\": 550}, {\"index\": 561, \"freq\": 2, \"line\": 550}, {\"index\": 453, \"freq\": 2, \"line\": 550}, {\"index\": 553, \"freq\": 1, \"line\": 550}, {\"index\": 439, \"freq\": 1, \"line\": 550}, {\"index\": 550, \"freq\": 1, \"line\": 550}, {\"index\": 446, \"freq\": 1, \"line\": 550}, {\"index\": 438, \"freq\": 1, \"line\": 550}, {\"index\": 445, \"freq\": 1, \"line\": 550}, {\"index\": 572, \"freq\": 1, \"line\": 550}, {\"index\": 548, \"freq\": 1, \"line\": 550}, {\"index\": 443, \"freq\": 1, \"line\": 550}, {\"index\": 450, \"freq\": 1, \"line\": 550}, {\"index\": 441, \"freq\": 1, \"line\": 550}, {\"index\": 551, \"freq\": 1, \"line\": 550}]}}, {\"mode\": \"vega-lite\"});\n",
       "</script>"
      ],
      "text/plain": [
       "alt.LayerChart(...)"
      ]
     },
     "execution_count": 36,
     "metadata": {},
     "output_type": "execute_result"
    }
   ],
   "source": [
    "hist+line"
   ]
  },
  {
   "cell_type": "markdown",
   "metadata": {},
   "source": [
    "Therefore most likely biased"
   ]
  },
  {
   "cell_type": "code",
   "execution_count": null,
   "metadata": {},
   "outputs": [],
   "source": []
  }
 ],
 "metadata": {
  "kernelspec": {
   "display_name": "Python 3",
   "language": "python",
   "name": "python3"
  },
  "language_info": {
   "codemirror_mode": {
    "name": "ipython",
    "version": 3
   },
   "file_extension": ".py",
   "mimetype": "text/x-python",
   "name": "python",
   "nbconvert_exporter": "python",
   "pygments_lexer": "ipython3",
   "version": "3.7.6"
  }
 },
 "nbformat": 4,
 "nbformat_minor": 4
}

{
 "cells": [
  {
   "cell_type": "markdown",
   "metadata": {},
   "source": [
    "# Given a number n, return the number of lists of consecutive positive integers that sum up to n.\n",
    "\n",
    "For example, for n = 9, you should return 3 since the lists are: [2, 3, 4], [4, 5], and [9]. Can you do it in linear time?"
   ]
  },
  {
   "cell_type": "code",
   "execution_count": 4,
   "metadata": {},
   "outputs": [],
   "source": [
    "def consec_pos_int_summing_to(n):\n",
    "    ptr1=0\n",
    "    ptr2=0\n",
    "    current_sum=0\n",
    "    count=0\n",
    "\n",
    "    while ptr2<=n:\n",
    "        if current_sum==n:\n",
    "            count+=1\n",
    "        if current_sum<n:\n",
    "            ptr2+=1\n",
    "            current_sum+=ptr2\n",
    "        if current_sum>=n:\n",
    "            current_sum-=ptr1\n",
    "            ptr1+=1\n",
    "    return(count)"
   ]
  },
  {
   "cell_type": "code",
   "execution_count": 5,
   "metadata": {},
   "outputs": [
    {
     "data": {
      "text/plain": [
       "3"
      ]
     },
     "execution_count": 5,
     "metadata": {},
     "output_type": "execute_result"
    }
   ],
   "source": [
    "consec_pos_int_summing_to(9)"
   ]
  },
  {
   "cell_type": "code",
   "execution_count": null,
   "metadata": {},
   "outputs": [],
   "source": []
  }
 ],
 "metadata": {
  "kernelspec": {
   "display_name": "Python 3",
   "language": "python",
   "name": "python3"
  },
  "language_info": {
   "codemirror_mode": {
    "name": "ipython",
    "version": 3
   },
   "file_extension": ".py",
   "mimetype": "text/x-python",
   "name": "python",
   "nbconvert_exporter": "python",
   "pygments_lexer": "ipython3",
   "version": "3.7.6"
  }
 },
 "nbformat": 4,
 "nbformat_minor": 4
}

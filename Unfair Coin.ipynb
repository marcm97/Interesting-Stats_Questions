{
 "cells": [
  {
   "cell_type": "markdown",
   "metadata": {},
   "source": [
    "### There is a fair coin (one side heads, one side tails) and an unfair coin (both sides tails). You pick one at random, flip it 5 times, and observe that it comes up as tails all five times. What is the chance that you are flipping the unfair coin?\n",
    "(Data Science Prep newsletter)"
   ]
  },
  {
   "cell_type": "markdown",
   "metadata": {},
   "source": [
    "To Find: Probability that we,'re flipping the unfair coin\n",
    "\n",
    "\n",
    "Initially, since we pick at random, p=0.5. however given the new information (that we got 5 consecutive heads, we need to update this probability)\n",
    "\n",
    "\n",
    "#### p(unfair|5 tails) = p(unfair,5tails)/p(5 tails)\n",
    "                  \n",
    "         = 0.5*(1^5)/(O.5 + 0.5*0.5^5)\n",
    "         \n",
    "         = 0.9697\n",
    "         \n",
    "Hence given this new information, the probability shifts from a 50-50 chance to an almost certainty"
   ]
  },
  {
   "cell_type": "markdown",
   "metadata": {},
   "source": [
    "#### Simulation"
   ]
  },
  {
   "cell_type": "code",
   "execution_count": 3,
   "metadata": {},
   "outputs": [],
   "source": [
    "import numpy as np"
   ]
  },
  {
   "cell_type": "code",
   "execution_count": 32,
   "metadata": {},
   "outputs": [
    {
     "name": "stdout",
     "output_type": "stream",
     "text": [
      "0.9695486888802985\n"
     ]
    }
   ],
   "source": [
    "#Choose one of 2 coins at random\n",
    "coin1 = [\"H\",\"T\"]\n",
    "coin2 = [\"T\",\"T\"]\n",
    "sub_total = 0\n",
    "count=0\n",
    "for i in range(1000000):\n",
    "    choice = np.random.choice([1,2])\n",
    "    coin = coin1 if choice ==1 else coin2\n",
    "\n",
    "    #toss coin 5 times\n",
    "    tosses = list(np.random.choice(coin,replace=True,size=5))\n",
    "\n",
    "    if tosses.count('T')==5:\n",
    "        sub_total+=1\n",
    "        if choice ==2:\n",
    "            count+=1\n",
    "print(count/sub_total)"
   ]
  },
  {
   "cell_type": "code",
   "execution_count": null,
   "metadata": {},
   "outputs": [],
   "source": []
  }
 ],
 "metadata": {
  "kernelspec": {
   "display_name": "Python 3",
   "language": "python",
   "name": "python3"
  },
  "language_info": {
   "codemirror_mode": {
    "name": "ipython",
    "version": 3
   },
   "file_extension": ".py",
   "mimetype": "text/x-python",
   "name": "python",
   "nbconvert_exporter": "python",
   "pygments_lexer": "ipython3",
   "version": "3.7.6"
  }
 },
 "nbformat": 4,
 "nbformat_minor": 4
}
